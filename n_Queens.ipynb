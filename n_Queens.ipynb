{
 "metadata": {
  "language_info": {
   "codemirror_mode": {
    "name": "ipython",
    "version": 3
   },
   "file_extension": ".py",
   "mimetype": "text/x-python",
   "name": "python",
   "nbconvert_exporter": "python",
   "pygments_lexer": "ipython3",
   "version": "3.9.0-final"
  },
  "orig_nbformat": 2,
  "kernelspec": {
   "name": "python3",
   "display_name": "Python 3.9.0 64-bit",
   "metadata": {
    "interpreter": {
     "hash": "08c3877bc71b0f2ed4968af961af75b0c25e4747782571df0affe5f1a0aba120"
    }
   }
  }
 },
 "nbformat": 4,
 "nbformat_minor": 2,
 "cells": [
  {
   "cell_type": "code",
   "execution_count": 4,
   "metadata": {},
   "outputs": [
    {
     "output_type": "stream",
     "name": "stdout",
     "text": [
      "Number of Rows/Cols :  4\n[0, 1, 0, 0]\n[0, 0, 0, 1]\n[1, 0, 0, 0]\n[0, 0, 1, 0]\n\n[0, 0, 1, 0]\n[1, 0, 0, 0]\n[0, 0, 0, 1]\n[0, 1, 0, 0]\n\n"
     ]
    }
   ],
   "source": [
    "\n",
    "def isSafe(mat,r,c) :\n",
    "    #to check if 2 Queens are in the same coloumn \n",
    "    for i in range(r):\n",
    "        if mat[i][c] == 1:\n",
    "            return False \n",
    "    \n",
    "    i,j = r,c \n",
    "    #to check Left diagonal '\\'\n",
    "    while i >= 0 and j >= 0 : \n",
    "        if mat[i][j] == 1 : \n",
    "            return False\n",
    "        i -=1\n",
    "        j -=1 \n",
    "    \n",
    "    i,j = r,c \n",
    "    #to check right diagonal '/'\n",
    "    while j < N and i >= 0 :\n",
    "        if mat[i][j] == 1 :\n",
    "            return False\n",
    "        j+=1 \n",
    "        i-=1\n",
    "    \n",
    "    return True\n",
    "\n",
    "\n",
    "def nQueen(mat,r):\n",
    "    # if N Queens are placed = print results\n",
    "    if r == N : \n",
    "        \n",
    "        for i in range(N):\n",
    "            print(mat[i])\n",
    "        print()\n",
    "        return\n",
    "    # Placing each queen at a position and checking if valid using recursion\n",
    "    for i in range(N):\n",
    "        if isSafe(mat,r,i):\n",
    "            #placing queen\n",
    "            mat[r][i] = 1\n",
    "            # recurion for next row\n",
    "            nQueen(mat,r+1)\n",
    "            #backtrack and cancel it\n",
    "            mat[r][i] = 0\n",
    "\n",
    "N = int(input(\"Enter Number of Rows/Cols : \"))\n",
    "print(\"Number of Rows/Cols : \", N)\n",
    "mat = [[0 for i in range(N)] for i in range(N)]\n",
    "nQueen(mat,0)"
   ]
  },
  {
   "cell_type": "code",
   "execution_count": null,
   "metadata": {},
   "outputs": [],
   "source": []
  }
 ]
}